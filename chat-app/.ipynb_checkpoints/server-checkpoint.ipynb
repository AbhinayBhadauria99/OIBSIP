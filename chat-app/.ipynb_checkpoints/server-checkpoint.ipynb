{
 "cells": [
  {
   "cell_type": "code",
   "execution_count": null,
   "id": "e96ba7fa-215d-4ef3-ab1b-4e8c3174963c",
   "metadata": {},
   "outputs": [
    {
     "name": "stdout",
     "output_type": "stream",
     "text": [
      "Server running on 127.0.0.1:12345.\n",
      "Connection established with ('127.0.0.1', 60809)\n",
      "Client: hello\n"
     ]
    },
    {
     "name": "stdin",
     "output_type": "stream",
     "text": [
      "You:  how are you\n"
     ]
    },
    {
     "name": "stdout",
     "output_type": "stream",
     "text": [
      "Client: i am fine\n"
     ]
    }
   ],
   "source": [
    "import socket\n",
    "import threading\n",
    "\n",
    "def handle_client(client_socket):\n",
    "    while True:\n",
    "        try:\n",
    "            message = client_socket.recv(1024).decode()\n",
    "            if message.lower() == 'exit':\n",
    "                print(\"Client disconnected.\")\n",
    "                break\n",
    "            print(f\"Client: {message}\")\n",
    "            reply = input(\"You: \")\n",
    "            client_socket.send(reply.encode())\n",
    "        except:\n",
    "            print(\"Connection error.\")\n",
    "            break\n",
    "    client_socket.close()\n",
    "\n",
    "def start_server():\n",
    "    host = '127.0.0.1'\n",
    "    port = 12345\n",
    "    server_socket = socket.socket(socket.AF_INET, socket.SOCK_STREAM)\n",
    "    server_socket.bind((host, port))\n",
    "    server_socket.listen(5)  # Allow multiple connections\n",
    "    print(f\"Server running on {host}:{port}.\")\n",
    "\n",
    "    while True:\n",
    "        client_socket, addr = server_socket.accept()\n",
    "        print(f\"Connection established with {addr}\")\n",
    "        threading.Thread(target=handle_client, args=(client_socket,)).start()\n",
    "\n",
    "start_server()\n"
   ]
  },
  {
   "cell_type": "code",
   "execution_count": null,
   "id": "59683039-38b5-49b0-b180-ee3e79385ff7",
   "metadata": {},
   "outputs": [],
   "source": []
  }
 ],
 "metadata": {
  "kernelspec": {
   "display_name": "Python 3 (ipykernel)",
   "language": "python",
   "name": "python3"
  },
  "language_info": {
   "codemirror_mode": {
    "name": "ipython",
    "version": 3
   },
   "file_extension": ".py",
   "mimetype": "text/x-python",
   "name": "python",
   "nbconvert_exporter": "python",
   "pygments_lexer": "ipython3",
   "version": "3.12.4"
  }
 },
 "nbformat": 4,
 "nbformat_minor": 5
}
