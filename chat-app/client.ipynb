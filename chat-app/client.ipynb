{
 "cells": [
  {
   "cell_type": "code",
   "execution_count": null,
   "id": "025b4de1-dd0d-46ca-8019-d6257373f7d9",
   "metadata": {},
   "outputs": [],
   "source": [
    "import socket\n",
    "import threading\n",
    "from tkinter import *\n",
    "\n",
    "def receive_messages(client_socket, text_area):\n",
    "    while True:\n",
    "        try:\n",
    "            message = client_socket.recv(1024).decode()\n",
    "            text_area.insert(END, f\"Server: {message}\\n\")\n",
    "        except:\n",
    "            break\n",
    "\n",
    "def send_message(entry, client_socket, text_area):\n",
    "    message = entry.get()\n",
    "    text_area.insert(END, f\"You: {message}\\n\")\n",
    "    client_socket.send(message.encode())\n",
    "    entry.delete(0, END)\n",
    "\n",
    "def start_client():\n",
    "    client_socket = socket.socket(socket.AF_INET, socket.SOCK_STREAM)\n",
    "    client_socket.connect(('127.0.0.1', 12345))\n",
    "\n",
    "    # GUI Setup\n",
    "    root = Tk()\n",
    "    root.title(\"Chat Application\")\n",
    "    text_area = Text(root, height=20, width=50)\n",
    "    text_area.pack()\n",
    "\n",
    "    entry = Entry(root, width=40)\n",
    "    entry.pack(side=LEFT, padx=10)\n",
    "    send_button = Button(root, text=\"Send\", command=lambda: send_message(entry, client_socket, text_area))\n",
    "    send_button.pack(side=RIGHT, padx=10)\n",
    "\n",
    "    threading.Thread(target=receive_messages, args=(client_socket, text_area)).start()\n",
    "    root.mainloop()\n",
    "\n",
    "start_client()\n"
   ]
  },
  {
   "cell_type": "code",
   "execution_count": null,
   "id": "ce9a4a11-caf3-4e96-a0fa-2083ea6748c5",
   "metadata": {},
   "outputs": [],
   "source": []
  }
 ],
 "metadata": {
  "kernelspec": {
   "display_name": "Python 3 (ipykernel)",
   "language": "python",
   "name": "python3"
  },
  "language_info": {
   "codemirror_mode": {
    "name": "ipython",
    "version": 3
   },
   "file_extension": ".py",
   "mimetype": "text/x-python",
   "name": "python",
   "nbconvert_exporter": "python",
   "pygments_lexer": "ipython3",
   "version": "3.12.4"
  }
 },
 "nbformat": 4,
 "nbformat_minor": 5
}
