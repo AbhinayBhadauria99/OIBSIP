{
 "cells": [
  {
   "cell_type": "code",
   "execution_count": 2,
   "id": "ac0c3cdd-4468-43a4-9962-172612d3fb8c",
   "metadata": {},
   "outputs": [
    {
     "name": "stdin",
     "output_type": "stream",
     "text": [
      "Enter latitude:  26.499\n",
      "Enter longitude:  80.3319\n"
     ]
    },
    {
     "name": "stdout",
     "output_type": "stream",
     "text": [
      "\n",
      "Weather for Nawābganj, IN:\n",
      "Temperature: 20.99°C (Feels like: 20.27°C)\n",
      "Condition: Clear - Clear sky\n",
      "Humidity: 43%\n",
      "Wind Speed: 2.55 m/s\n"
     ]
    }
   ],
   "source": [
    "import requests\n",
    "\n",
    "def get_weather_by_coordinates(lat, lon):\n",
    "    API_KEY = \"c8dc9ac020ccce26921425b311e3497d\"  # Replace with your OpenWeatherMap API key\n",
    "    BASE_URL = \"https://api.openweathermap.org/data/2.5/weather\"\n",
    "    \n",
    "    params = {\n",
    "        \"lat\": lat,\n",
    "        \"lon\": lon,\n",
    "        \"appid\": API_KEY,\n",
    "        \"units\": \"metric\"  # Change to \"imperial\" for Fahrenheit\n",
    "    }\n",
    "    \n",
    "    try:\n",
    "        response = requests.get(BASE_URL, params=params)\n",
    "        response.raise_for_status()\n",
    "        data = response.json()\n",
    "        \n",
    "        # Parse JSON response\n",
    "        location_name = data.get(\"name\", \"Unknown Location\")\n",
    "        country = data[\"sys\"].get(\"country\", \"Unknown Country\")\n",
    "        temp = data[\"main\"][\"temp\"]\n",
    "        feels_like = data[\"main\"][\"feels_like\"]\n",
    "        weather_main = data[\"weather\"][0][\"main\"]\n",
    "        description = data[\"weather\"][0][\"description\"].capitalize()\n",
    "        humidity = data[\"main\"][\"humidity\"]\n",
    "        wind_speed = data[\"wind\"][\"speed\"]\n",
    "        \n",
    "        # Display results\n",
    "        print(f\"\\nWeather for {location_name}, {country}:\")\n",
    "        print(f\"Temperature: {temp}°C (Feels like: {feels_like}°C)\")\n",
    "        print(f\"Condition: {weather_main} - {description}\")\n",
    "        print(f\"Humidity: {humidity}%\")\n",
    "        print(f\"Wind Speed: {wind_speed} m/s\")\n",
    "    except requests.exceptions.HTTPError as http_err:\n",
    "        print(f\"HTTP error occurred: {http_err}\")\n",
    "    except Exception as err:\n",
    "        print(f\"Error occurred: {err}\")\n",
    "\n",
    "# Example: Enter latitude and longitude\n",
    "latitude = float(input(\"Enter latitude: \"))\n",
    "longitude = float(input(\"Enter longitude: \"))\n",
    "get_weather_by_coordinates(latitude, longitude)\n"
   ]
  },
  {
   "cell_type": "code",
   "execution_count": null,
   "id": "6508db4e-3f2a-4546-a01e-bb7140c93abe",
   "metadata": {},
   "outputs": [],
   "source": []
  }
 ],
 "metadata": {
  "kernelspec": {
   "display_name": "Python 3 (ipykernel)",
   "language": "python",
   "name": "python3"
  },
  "language_info": {
   "codemirror_mode": {
    "name": "ipython",
    "version": 3
   },
   "file_extension": ".py",
   "mimetype": "text/x-python",
   "name": "python",
   "nbconvert_exporter": "python",
   "pygments_lexer": "ipython3",
   "version": "3.12.4"
  }
 },
 "nbformat": 4,
 "nbformat_minor": 5
}
